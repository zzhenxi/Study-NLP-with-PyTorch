{
  "nbformat": 4,
  "nbformat_minor": 0,
  "metadata": {
    "colab": {
      "name": "chapter 1  pytorch 기본 개념 학습.ipynb",
      "provenance": [],
      "collapsed_sections": [],
      "authorship_tag": "ABX9TyNWayr+jNMjrrwL47T6eQEA",
      "include_colab_link": true
    },
    "kernelspec": {
      "name": "python3",
      "display_name": "Python 3"
    },
    "language_info": {
      "name": "python"
    },
    "accelerator": "GPU"
  },
  "cells": [
    {
      "cell_type": "markdown",
      "metadata": {
        "id": "view-in-github",
        "colab_type": "text"
      },
      "source": [
        "<a href=\"https://colab.research.google.com/github/zzhenxi/study-NLP-with-PyTorch/blob/main/chapter_1_pytorch_%EA%B8%B0%EB%B3%B8_%EA%B0%9C%EB%85%90_%ED%95%99%EC%8A%B5.ipynb\" target=\"_parent\"><img src=\"https://colab.research.google.com/assets/colab-badge.svg\" alt=\"Open In Colab\"/></a>"
      ]
    },
    {
      "cell_type": "code",
      "execution_count": 2,
      "metadata": {
        "id": "jt4J-F985Ffh"
      },
      "outputs": [],
      "source": [
        "# 헬퍼함수\n",
        "def describe(x):\n",
        "  print(\"타입: {}\".format(x.type()))\n",
        "  print(\"크기: {}\".format(x.shape))\n",
        "  print(\"값: \\n{}\".format(x))"
      ]
    },
    {
      "cell_type": "code",
      "source": [
        "import torch \n",
        "describe(torch.Tensor(2,3)) # 랜덤한 tenesor를 만듦."
      ],
      "metadata": {
        "colab": {
          "base_uri": "https://localhost:8080/"
        },
        "id": "Eomu8oic5pBX",
        "outputId": "28c0876d-5ee3-400d-fbbe-12dc20d50841"
      },
      "execution_count": 4,
      "outputs": [
        {
          "output_type": "stream",
          "name": "stdout",
          "text": [
            "타입: torch.FloatTensor\n",
            "크기: torch.Size([2, 3])\n",
            "값: \n",
            "tensor([[-5.0576e-04,  3.0667e-41,  3.7835e-44],\n",
            "        [ 0.0000e+00,         nan,  3.0667e-41]])\n"
          ]
        }
      ]
    },
    {
      "cell_type": "code",
      "source": [
        "import torch \n",
        "describe(torch.rand(2, 3)) # 균등 분포\n",
        "describe(torch.rand(2, 3)) # 표준 정규 분포 -> 평균이 0이고, 분산이 1인 정규 분포"
      ],
      "metadata": {
        "colab": {
          "base_uri": "https://localhost:8080/"
        },
        "id": "D2U6txsP542_",
        "outputId": "153d87c6-53eb-4dde-d2e3-ab906042384a"
      },
      "execution_count": null,
      "outputs": [
        {
          "output_type": "stream",
          "name": "stdout",
          "text": [
            "타입: torch.FloatTensor\n",
            "크기: torch.Size([2, 3])\n",
            "값: \n",
            "tensor([[0.7906, 0.4836, 0.1392],\n",
            "        [0.6615, 0.3491, 0.8173]])\n",
            "타입: torch.FloatTensor\n",
            "크기: torch.Size([2, 3])\n",
            "값: \n",
            "tensor([[0.5903, 0.0126, 0.0301],\n",
            "        [0.7590, 0.6536, 0.9903]])\n"
          ]
        }
      ]
    },
    {
      "cell_type": "code",
      "source": [
        "import torch\n",
        "describe(torch.zeros(2, 3))\n",
        "x = torch.ones(2, 3)\n",
        "describe(x)\n",
        "x.fill_(5) # 여기서 0->5로 바뀜\n",
        "describe(x)"
      ],
      "metadata": {
        "colab": {
          "base_uri": "https://localhost:8080/"
        },
        "id": "DN_JQD2U6cwK",
        "outputId": "9eda2e1d-907b-4310-dff2-4578af36a779"
      },
      "execution_count": null,
      "outputs": [
        {
          "output_type": "stream",
          "name": "stdout",
          "text": [
            "타입: torch.FloatTensor\n",
            "크기: torch.Size([2, 3])\n",
            "값: \n",
            "tensor([[0., 0., 0.],\n",
            "        [0., 0., 0.]])\n",
            "타입: torch.FloatTensor\n",
            "크기: torch.Size([2, 3])\n",
            "값: \n",
            "tensor([[1., 1., 1.],\n",
            "        [1., 1., 1.]])\n",
            "타입: torch.FloatTensor\n",
            "크기: torch.Size([2, 3])\n",
            "값: \n",
            "tensor([[5., 5., 5.],\n",
            "        [5., 5., 5.]])\n"
          ]
        }
      ]
    },
    {
      "cell_type": "code",
      "source": [
        "x = torch.Tensor([[1,2,3],\n",
        "                  [4,5,6]]) # python list로 텐서 만들기\n",
        "describe(x)"
      ],
      "metadata": {
        "colab": {
          "base_uri": "https://localhost:8080/"
        },
        "id": "Xb3fM07364O7",
        "outputId": "4dfab759-95a7-4dfb-d907-7f637276b4d0"
      },
      "execution_count": null,
      "outputs": [
        {
          "output_type": "stream",
          "name": "stdout",
          "text": [
            "타입: torch.FloatTensor\n",
            "크기: torch.Size([2, 3])\n",
            "값: \n",
            "tensor([[1., 2., 3.],\n",
            "        [4., 5., 6.]])\n"
          ]
        }
      ]
    },
    {
      "cell_type": "code",
      "source": [
        "import torch\n",
        "import numpy as np\n",
        "npy = np.random.rand(2,3)\n",
        "describe(torch.from_numpy(npy))"
      ],
      "metadata": {
        "colab": {
          "base_uri": "https://localhost:8080/"
        },
        "id": "LQ26cizq7141",
        "outputId": "cb4f3984-9cd4-4f04-cbb8-40c0893baaf1"
      },
      "execution_count": null,
      "outputs": [
        {
          "output_type": "stream",
          "name": "stdout",
          "text": [
            "타입: torch.DoubleTensor\n",
            "크기: torch.Size([2, 3])\n",
            "값: \n",
            "tensor([[0.9692, 0.7251, 0.6429],\n",
            "        [0.8660, 0.1730, 0.2053]], dtype=torch.float64)\n"
          ]
        }
      ]
    },
    {
      "cell_type": "code",
      "source": [
        "x = torch.FloatTensor([[1,2,3],\n",
        "                       [4,5,6]])\n",
        "describe(x)"
      ],
      "metadata": {
        "colab": {
          "base_uri": "https://localhost:8080/"
        },
        "id": "ouaKIAub-mzD",
        "outputId": "d1b1efda-b2ff-4646-b9b6-77724b21dbf1"
      },
      "execution_count": null,
      "outputs": [
        {
          "output_type": "stream",
          "name": "stdout",
          "text": [
            "타입: torch.FloatTensor\n",
            "크기: torch.Size([2, 3])\n",
            "값: \n",
            "tensor([[1., 2., 3.],\n",
            "        [4., 5., 6.]])\n"
          ]
        }
      ]
    },
    {
      "cell_type": "code",
      "source": [
        "x = x.long()\n",
        "describe(x)"
      ],
      "metadata": {
        "colab": {
          "base_uri": "https://localhost:8080/"
        },
        "id": "Y0MmcG8I-8xH",
        "outputId": "8774a85d-ed16-47df-cf2d-a1616b48d957"
      },
      "execution_count": null,
      "outputs": [
        {
          "output_type": "stream",
          "name": "stdout",
          "text": [
            "타입: torch.LongTensor\n",
            "크기: torch.Size([2, 3])\n",
            "값: \n",
            "tensor([[1, 2, 3],\n",
            "        [4, 5, 6]])\n"
          ]
        }
      ]
    },
    {
      "cell_type": "markdown",
      "source": [
        "파이토치 코드를 디버길 할때는 텐서 크기를 꼭 조사하기!   \n",
        "* .size()\n",
        "* .shape"
      ],
      "metadata": {
        "id": "Hx4vzJeg_VLT"
      }
    },
    {
      "cell_type": "code",
      "source": [
        "import torch\n",
        "x = torch.arange(6)\n",
        "describe(x)"
      ],
      "metadata": {
        "colab": {
          "base_uri": "https://localhost:8080/"
        },
        "id": "SddFkemV_CV_",
        "outputId": "a3de49e7-0c3f-4d68-f7ea-7ea5e6c780db"
      },
      "execution_count": null,
      "outputs": [
        {
          "output_type": "stream",
          "name": "stdout",
          "text": [
            "타입: torch.LongTensor\n",
            "크기: torch.Size([6])\n",
            "값: \n",
            "tensor([0, 1, 2, 3, 4, 5])\n"
          ]
        }
      ]
    },
    {
      "cell_type": "code",
      "source": [
        "x = x.view(2,3) # 2,2같은 숫자를 넣어주면 맞지않은 차원이라는 에러가 뜸. \n",
        "describe(x)"
      ],
      "metadata": {
        "colab": {
          "base_uri": "https://localhost:8080/"
        },
        "id": "Cj63yTgECLaV",
        "outputId": "bdb4ddc0-6df3-4f78-ac1d-7d1120cdef29"
      },
      "execution_count": null,
      "outputs": [
        {
          "output_type": "stream",
          "name": "stdout",
          "text": [
            "타입: torch.LongTensor\n",
            "크기: torch.Size([2, 3])\n",
            "값: \n",
            "tensor([[0, 1, 2],\n",
            "        [3, 4, 5]])\n"
          ]
        }
      ]
    },
    {
      "cell_type": "code",
      "source": [
        "describe(torch.sum(x, dim=0)) # 2d 텐서는 행을 차원0, 열을 차원1로 표현"
      ],
      "metadata": {
        "colab": {
          "base_uri": "https://localhost:8080/"
        },
        "id": "KgO3Np0zCWOE",
        "outputId": "ba03c0ea-2a2d-4e31-e9fc-6fea32c7ac91"
      },
      "execution_count": null,
      "outputs": [
        {
          "output_type": "stream",
          "name": "stdout",
          "text": [
            "타입: torch.LongTensor\n",
            "크기: torch.Size([3])\n",
            "값: \n",
            "tensor([3, 5, 7])\n"
          ]
        }
      ]
    },
    {
      "cell_type": "code",
      "source": [
        "describe(torch.sum(x,dim=1)) # 2d 텐서는 행을 차원0, 열을 차원1로 표현"
      ],
      "metadata": {
        "colab": {
          "base_uri": "https://localhost:8080/"
        },
        "id": "lbINprhXCyuo",
        "outputId": "bf1e9d89-7759-4a71-9804-295bb587846e"
      },
      "execution_count": null,
      "outputs": [
        {
          "output_type": "stream",
          "name": "stdout",
          "text": [
            "타입: torch.LongTensor\n",
            "크기: torch.Size([2])\n",
            "값: \n",
            "tensor([ 3, 12])\n"
          ]
        }
      ]
    },
    {
      "cell_type": "code",
      "source": [
        "describe(torch.transpose(x, 0, 1))"
      ],
      "metadata": {
        "colab": {
          "base_uri": "https://localhost:8080/"
        },
        "id": "rS4w9bKLDLqC",
        "outputId": "76ae80d9-2a1e-4ee2-8fd5-8adaa6c5f0a1"
      },
      "execution_count": null,
      "outputs": [
        {
          "output_type": "stream",
          "name": "stdout",
          "text": [
            "타입: torch.LongTensor\n",
            "크기: torch.Size([3, 2])\n",
            "값: \n",
            "tensor([[0, 3],\n",
            "        [1, 4],\n",
            "        [2, 5]])\n"
          ]
        }
      ]
    },
    {
      "cell_type": "code",
      "source": [
        "import torch\n",
        "x = torch.arange(6).view(2,3)\n",
        "describe(x)"
      ],
      "metadata": {
        "id": "DnfJJ59MDVwq",
        "colab": {
          "base_uri": "https://localhost:8080/"
        },
        "outputId": "fb6f30c8-ccd9-4625-d3e8-3cf31c0c9e77"
      },
      "execution_count": null,
      "outputs": [
        {
          "output_type": "stream",
          "name": "stdout",
          "text": [
            "타입: torch.LongTensor\n",
            "크기: torch.Size([2, 3])\n",
            "값: \n",
            "tensor([[0, 1, 2],\n",
            "        [3, 4, 5]])\n"
          ]
        }
      ]
    },
    {
      "cell_type": "code",
      "source": [
        "describe(x[1, 2]) # 0번째 행에서 0, 1번째 열 뽑기"
      ],
      "metadata": {
        "colab": {
          "base_uri": "https://localhost:8080/"
        },
        "id": "zXVtuYnOs_do",
        "outputId": "ce27fb3b-f351-4892-961a-d923b1439d85"
      },
      "execution_count": null,
      "outputs": [
        {
          "output_type": "stream",
          "name": "stdout",
          "text": [
            "타입: torch.LongTensor\n",
            "크기: torch.Size([])\n",
            "값: \n",
            "5\n"
          ]
        }
      ]
    },
    {
      "cell_type": "code",
      "source": [
        "describe(x[0, 1]) # 0번째 행에서 1번째 열 뽑기 "
      ],
      "metadata": {
        "colab": {
          "base_uri": "https://localhost:8080/"
        },
        "id": "Mb_Nw8AEtRkS",
        "outputId": "2fc87b27-48e7-4c50-e298-5757daa0cb5b"
      },
      "execution_count": null,
      "outputs": [
        {
          "output_type": "stream",
          "name": "stdout",
          "text": [
            "타입: torch.LongTensor\n",
            "크기: torch.Size([])\n",
            "값: \n",
            "1\n"
          ]
        }
      ]
    },
    {
      "cell_type": "code",
      "source": [
        "indices = torch.LongTensor([0, 2])\n",
        "describe(torch.index_select(x, dim=1, index=indices)) # index는 vector여야 한다."
      ],
      "metadata": {
        "colab": {
          "base_uri": "https://localhost:8080/"
        },
        "id": "f7rNdAUbtba_",
        "outputId": "cbbe93c2-53ed-486b-91cc-7307d8c8a0bd"
      },
      "execution_count": null,
      "outputs": [
        {
          "output_type": "stream",
          "name": "stdout",
          "text": [
            "타입: torch.LongTensor\n",
            "크기: torch.Size([2, 2])\n",
            "값: \n",
            "tensor([[0, 2],\n",
            "        [3, 5]])\n"
          ]
        }
      ]
    },
    {
      "cell_type": "code",
      "source": [
        "indices = torch.LongTensor([0, 0])\n",
        "describe(torch.index_select(x, dim=0, index=indices)) # index는 vector여야 한다."
      ],
      "metadata": {
        "colab": {
          "base_uri": "https://localhost:8080/"
        },
        "id": "IdLS6yr3wuTJ",
        "outputId": "0fff6cdb-b503-4370-8d3b-4ddf4e46b759"
      },
      "execution_count": null,
      "outputs": [
        {
          "output_type": "stream",
          "name": "stdout",
          "text": [
            "타입: torch.LongTensor\n",
            "크기: torch.Size([2, 3])\n",
            "값: \n",
            "tensor([[0, 1, 2],\n",
            "        [0, 1, 2]])\n"
          ]
        }
      ]
    },
    {
      "cell_type": "code",
      "source": [
        "row_indices = torch.arange(2).long() #0번, 그리고 1번\n",
        "col_indices = torch.LongTensor([0,1])\n",
        "describe(x[row_indices, col_indices])"
      ],
      "metadata": {
        "colab": {
          "base_uri": "https://localhost:8080/"
        },
        "id": "bo1cBlJdyLIS",
        "outputId": "371402f2-38fd-4c35-d4ef-eb48f3e899a4"
      },
      "execution_count": null,
      "outputs": [
        {
          "output_type": "stream",
          "name": "stdout",
          "text": [
            "타입: torch.LongTensor\n",
            "크기: torch.Size([2])\n",
            "값: \n",
            "tensor([0, 4])\n"
          ]
        }
      ]
    },
    {
      "cell_type": "code",
      "source": [
        "x"
      ],
      "metadata": {
        "colab": {
          "base_uri": "https://localhost:8080/"
        },
        "id": "UFL05h3Vy3sL",
        "outputId": "776105f8-18ce-43fd-abc9-d56de6c54ca4"
      },
      "execution_count": null,
      "outputs": [
        {
          "output_type": "execute_result",
          "data": {
            "text/plain": [
              "tensor([[0, 1, 2],\n",
              "        [3, 4, 5]])"
            ]
          },
          "metadata": {},
          "execution_count": 20
        }
      ]
    },
    {
      "cell_type": "code",
      "source": [
        "row_indices"
      ],
      "metadata": {
        "colab": {
          "base_uri": "https://localhost:8080/"
        },
        "id": "5KNWwEpay9TW",
        "outputId": "424b4553-5f36-4e96-ec47-acce5f8f7e4d"
      },
      "execution_count": null,
      "outputs": [
        {
          "output_type": "execute_result",
          "data": {
            "text/plain": [
              "tensor([0, 1])"
            ]
          },
          "metadata": {},
          "execution_count": 21
        }
      ]
    },
    {
      "cell_type": "code",
      "source": [
        "import torch\n",
        "x = torch.arange(6).view(2,3)\n",
        "describe(x)"
      ],
      "metadata": {
        "colab": {
          "base_uri": "https://localhost:8080/"
        },
        "id": "GbdfSbhlzKic",
        "outputId": "0c323d6b-6983-4e56-a9a3-7032cd1fa8a8"
      },
      "execution_count": null,
      "outputs": [
        {
          "output_type": "stream",
          "name": "stdout",
          "text": [
            "타입: torch.LongTensor\n",
            "크기: torch.Size([2, 3])\n",
            "값: \n",
            "tensor([[0, 1, 2],\n",
            "        [3, 4, 5]])\n"
          ]
        }
      ]
    },
    {
      "cell_type": "code",
      "source": [
        "describe(torch.cat([x, x], dim=0)) # 행을 기준으로 cat"
      ],
      "metadata": {
        "colab": {
          "base_uri": "https://localhost:8080/"
        },
        "id": "KzD5lmxNzkKR",
        "outputId": "858384ff-ad2e-4551-e549-8d1dd25a4abd"
      },
      "execution_count": null,
      "outputs": [
        {
          "output_type": "stream",
          "name": "stdout",
          "text": [
            "타입: torch.LongTensor\n",
            "크기: torch.Size([4, 3])\n",
            "값: \n",
            "tensor([[0, 1, 2],\n",
            "        [3, 4, 5],\n",
            "        [0, 1, 2],\n",
            "        [3, 4, 5]])\n"
          ]
        }
      ]
    },
    {
      "cell_type": "code",
      "source": [
        "describe(torch.cat([x, x], dim=1)) # 열을 기준으로 cat"
      ],
      "metadata": {
        "colab": {
          "base_uri": "https://localhost:8080/"
        },
        "id": "tRn9ASb_zv6d",
        "outputId": "387112c5-2382-44d4-f7e5-4ae0cc1c3232"
      },
      "execution_count": null,
      "outputs": [
        {
          "output_type": "stream",
          "name": "stdout",
          "text": [
            "타입: torch.LongTensor\n",
            "크기: torch.Size([2, 6])\n",
            "값: \n",
            "tensor([[0, 1, 2, 0, 1, 2],\n",
            "        [3, 4, 5, 3, 4, 5]])\n"
          ]
        }
      ]
    },
    {
      "cell_type": "code",
      "source": [
        "describe(torch.stack([x, x])) # 그냥 통째로 쌓임"
      ],
      "metadata": {
        "colab": {
          "base_uri": "https://localhost:8080/"
        },
        "id": "XAmkwZ9y0Anx",
        "outputId": "98a95f63-48fd-4a96-88aa-4313f8c2106c"
      },
      "execution_count": null,
      "outputs": [
        {
          "output_type": "stream",
          "name": "stdout",
          "text": [
            "타입: torch.LongTensor\n",
            "크기: torch.Size([2, 2, 3])\n",
            "값: \n",
            "tensor([[[0, 1, 2],\n",
            "         [3, 4, 5]],\n",
            "\n",
            "        [[0, 1, 2],\n",
            "         [3, 4, 5]]])\n"
          ]
        }
      ]
    },
    {
      "cell_type": "code",
      "source": [
        "x2 = torch.ones(3,2)\n",
        "x2[:, 1] += 1 # 1번째 열에만 1이 다 더해짐\n",
        "describe(x2) "
      ],
      "metadata": {
        "colab": {
          "base_uri": "https://localhost:8080/"
        },
        "id": "3r_hYObA0iDw",
        "outputId": "f7d33b51-641e-483c-93cc-64c60472aa56"
      },
      "execution_count": null,
      "outputs": [
        {
          "output_type": "stream",
          "name": "stdout",
          "text": [
            "타입: torch.FloatTensor\n",
            "크기: torch.Size([3, 2])\n",
            "값: \n",
            "tensor([[1., 2.],\n",
            "        [1., 2.],\n",
            "        [1., 2.]])\n"
          ]
        }
      ]
    },
    {
      "cell_type": "code",
      "source": [
        "x1 = torch.arange(6).view(2,3).float() # .float()이걸 써야 오류가 안뜬다. 왜지?\n",
        "x2 = torch.ones(3,2)\n",
        "x2[:, 1] += 1 # 1번째 열에만 1이 다 더해짐\n",
        "describe(torch.mm(x1, x2))"
      ],
      "metadata": {
        "colab": {
          "base_uri": "https://localhost:8080/"
        },
        "id": "YDzONPZI0uTi",
        "outputId": "6de5123c-1651-4d1d-c300-34077e0d5ae6"
      },
      "execution_count": null,
      "outputs": [
        {
          "output_type": "stream",
          "name": "stdout",
          "text": [
            "타입: torch.FloatTensor\n",
            "크기: torch.Size([2, 2])\n",
            "값: \n",
            "tensor([[ 3.,  6.],\n",
            "        [12., 24.]])\n"
          ]
        }
      ]
    },
    {
      "cell_type": "code",
      "source": [
        "import torch\n",
        "x = torch.ones(2, 2, requires_grad=True)\n",
        "describe(x)\n",
        "print(x.grad is None)"
      ],
      "metadata": {
        "colab": {
          "base_uri": "https://localhost:8080/"
        },
        "id": "4IRKHW8k1-yW",
        "outputId": "10f97981-6b2b-4fef-c9fc-2fa4c4f29d53"
      },
      "execution_count": null,
      "outputs": [
        {
          "output_type": "stream",
          "name": "stdout",
          "text": [
            "타입: torch.FloatTensor\n",
            "크기: torch.Size([2, 2])\n",
            "값: \n",
            "tensor([[1., 1.],\n",
            "        [1., 1.]], requires_grad=True)\n",
            "True\n"
          ]
        }
      ]
    },
    {
      "cell_type": "code",
      "source": [
        "y = (x+2) * (x+5) +3\n",
        "describe(y)\n",
        "print(x.grad is None)"
      ],
      "metadata": {
        "colab": {
          "base_uri": "https://localhost:8080/"
        },
        "id": "CLeo6HcQ3j1l",
        "outputId": "e95079e2-2c8f-4c0f-ea1a-2496282f10a9"
      },
      "execution_count": null,
      "outputs": [
        {
          "output_type": "stream",
          "name": "stdout",
          "text": [
            "타입: torch.FloatTensor\n",
            "크기: torch.Size([2, 2])\n",
            "값: \n",
            "tensor([[21., 21.],\n",
            "        [21., 21.]], grad_fn=<AddBackward0>)\n",
            "True\n"
          ]
        }
      ]
    },
    {
      "cell_type": "code",
      "source": [
        "z = y.mean()\n",
        "describe(z)\n",
        "z.backward()\n",
        "print(x.grad is None)"
      ],
      "metadata": {
        "colab": {
          "base_uri": "https://localhost:8080/"
        },
        "id": "35FMVbuf3s9i",
        "outputId": "5937096d-8999-422c-aea2-bf535f095c64"
      },
      "execution_count": null,
      "outputs": [
        {
          "output_type": "stream",
          "name": "stdout",
          "text": [
            "타입: torch.FloatTensor\n",
            "크기: torch.Size([])\n",
            "값: \n",
            "21.0\n",
            "False\n"
          ]
        }
      ]
    },
    {
      "cell_type": "code",
      "source": [
        "x.grad # 값이 변했다?! "
      ],
      "metadata": {
        "colab": {
          "base_uri": "https://localhost:8080/"
        },
        "id": "76EHRz_Q4TIY",
        "outputId": "bb58ca8f-9e92-4d47-cb18-155b2bd8c7bc"
      },
      "execution_count": null,
      "outputs": [
        {
          "output_type": "execute_result",
          "data": {
            "text/plain": [
              "tensor([[2.2500, 2.2500],\n",
              "        [2.2500, 2.2500]])"
            ]
          },
          "metadata": {},
          "execution_count": 32
        }
      ]
    },
    {
      "cell_type": "code",
      "source": [
        "import torch\n",
        "print(torch.cuda.is_available())"
      ],
      "metadata": {
        "colab": {
          "base_uri": "https://localhost:8080/"
        },
        "id": "P5-8lF0B4WRl",
        "outputId": "db63dbbd-c523-416b-b7d1-80079c15b4c0"
      },
      "execution_count": null,
      "outputs": [
        {
          "output_type": "stream",
          "name": "stdout",
          "text": [
            "True\n"
          ]
        }
      ]
    },
    {
      "cell_type": "code",
      "source": [
        "device = torch.device(\"cuda\" if torch.cuda.is_available() else \"cpu\")"
      ],
      "metadata": {
        "id": "9eSgknYm5FSc"
      },
      "execution_count": null,
      "outputs": []
    },
    {
      "cell_type": "code",
      "source": [
        "print(device)"
      ],
      "metadata": {
        "colab": {
          "base_uri": "https://localhost:8080/"
        },
        "id": "JYA_DSvF5nEX",
        "outputId": "69e6060a-26c3-4212-d773-f7a10f18f431"
      },
      "execution_count": null,
      "outputs": [
        {
          "output_type": "stream",
          "name": "stdout",
          "text": [
            "cuda\n"
          ]
        }
      ]
    },
    {
      "cell_type": "code",
      "source": [
        "x = torch.rand(3,3).to(device)\n",
        "describe(x)"
      ],
      "metadata": {
        "colab": {
          "base_uri": "https://localhost:8080/"
        },
        "id": "Z-wTWEWE5xOj",
        "outputId": "8a685ef8-9f09-467a-9cdb-e97d1a7eafd4"
      },
      "execution_count": null,
      "outputs": [
        {
          "output_type": "stream",
          "name": "stdout",
          "text": [
            "타입: torch.cuda.FloatTensor\n",
            "크기: torch.Size([3, 3])\n",
            "값: \n",
            "tensor([[0.0232, 0.4516, 0.2702],\n",
            "        [0.2934, 0.6457, 0.6241],\n",
            "        [0.6932, 0.3942, 0.5636]], device='cuda:0')\n"
          ]
        }
      ]
    },
    {
      "cell_type": "code",
      "source": [
        "y = torch.rand(3,3)\n",
        "x+y"
      ],
      "metadata": {
        "colab": {
          "base_uri": "https://localhost:8080/",
          "height": 207
        },
        "id": "jpDYHFVO55EA",
        "outputId": "c69283d3-1dee-4010-a2ef-16385aec3819"
      },
      "execution_count": null,
      "outputs": [
        {
          "output_type": "error",
          "ename": "RuntimeError",
          "evalue": "ignored",
          "traceback": [
            "\u001b[0;31m---------------------------------------------------------------------------\u001b[0m",
            "\u001b[0;31mRuntimeError\u001b[0m                              Traceback (most recent call last)",
            "\u001b[0;32m<ipython-input-37-0f9836fd7692>\u001b[0m in \u001b[0;36m<module>\u001b[0;34m()\u001b[0m\n\u001b[1;32m      1\u001b[0m \u001b[0my\u001b[0m \u001b[0;34m=\u001b[0m \u001b[0mtorch\u001b[0m\u001b[0;34m.\u001b[0m\u001b[0mrand\u001b[0m\u001b[0;34m(\u001b[0m\u001b[0;36m3\u001b[0m\u001b[0;34m,\u001b[0m\u001b[0;36m3\u001b[0m\u001b[0;34m)\u001b[0m\u001b[0;34m\u001b[0m\u001b[0;34m\u001b[0m\u001b[0m\n\u001b[0;32m----> 2\u001b[0;31m \u001b[0mx\u001b[0m\u001b[0;34m+\u001b[0m\u001b[0my\u001b[0m\u001b[0;34m\u001b[0m\u001b[0;34m\u001b[0m\u001b[0m\n\u001b[0m",
            "\u001b[0;31mRuntimeError\u001b[0m: Expected all tensors to be on the same device, but found at least two devices, cuda:0 and cpu!"
          ]
        }
      ]
    },
    {
      "cell_type": "code",
      "source": [
        "cpu_Device = torch.device(\"cpu\")"
      ],
      "metadata": {
        "id": "QijLmoWj6Nxt"
      },
      "execution_count": null,
      "outputs": []
    },
    {
      "cell_type": "code",
      "source": [
        "y = y.to(cpu_Device) \n",
        "x = x.to(cpu_Device)\n",
        "x+y"
      ],
      "metadata": {
        "colab": {
          "base_uri": "https://localhost:8080/"
        },
        "id": "fbG5j8_L6TdM",
        "outputId": "f1e4f293-10ff-428a-aa85-ce1d9d7c155d"
      },
      "execution_count": null,
      "outputs": [
        {
          "output_type": "execute_result",
          "data": {
            "text/plain": [
              "tensor([[0.2088, 1.0796, 0.2830],\n",
              "        [0.8999, 0.9661, 0.9941],\n",
              "        [1.3148, 0.9681, 1.5298]])"
            ]
          },
          "metadata": {},
          "execution_count": 39
        }
      ]
    },
    {
      "cell_type": "markdown",
      "source": [
        "gpu로 메모리를 넣고 꺼내는 작업은 비용이 많이 든다고 한다! 되도록 병렬연산은 gpu로 수행하고, 최종결과만 cpu로 전송하는 방식이 좋음"
      ],
      "metadata": {
        "id": "ZQIzKYw-60ot"
      }
    },
    {
      "cell_type": "code",
      "source": [
        "# 1. 2d 텐서를 만들고 차원 0 위치에 크기가 1인 차원을 추가하세요 \n",
        "a = torch.Tensor(2,3)"
      ],
      "metadata": {
        "id": "PzRSPTHLiRQ2"
      },
      "execution_count": null,
      "outputs": []
    },
    {
      "cell_type": "code",
      "source": [
        "describe(a)"
      ],
      "metadata": {
        "colab": {
          "base_uri": "https://localhost:8080/"
        },
        "id": "zq5gfAsgjIsn",
        "outputId": "daa4dfb5-4ae2-4ad4-d0ec-ce555877bc9f"
      },
      "execution_count": null,
      "outputs": [
        {
          "output_type": "stream",
          "name": "stdout",
          "text": [
            "타입: torch.FloatTensor\n",
            "크기: torch.Size([2, 3])\n",
            "값: \n",
            "tensor([[1.0580e-31, 3.0676e-41, 1.5975e-43],\n",
            "        [1.3873e-43, 1.4574e-43, 6.4460e-44]])\n"
          ]
        }
      ]
    },
    {
      "cell_type": "code",
      "source": [
        "a = a.unsqueeze(0)"
      ],
      "metadata": {
        "id": "luFVnKJ9jJMv"
      },
      "execution_count": null,
      "outputs": []
    },
    {
      "cell_type": "code",
      "source": [
        "describe(a)"
      ],
      "metadata": {
        "colab": {
          "base_uri": "https://localhost:8080/"
        },
        "id": "0-HGvsrDlhxA",
        "outputId": "a1ef8934-12fc-4ab5-cef9-5c8a5f495a33"
      },
      "execution_count": null,
      "outputs": [
        {
          "output_type": "stream",
          "name": "stdout",
          "text": [
            "타입: torch.FloatTensor\n",
            "크기: torch.Size([1, 2, 3])\n",
            "값: \n",
            "tensor([[[1.0580e-31, 3.0676e-41, 1.5975e-43],\n",
            "         [1.3873e-43, 1.4574e-43, 6.4460e-44]]])\n"
          ]
        }
      ]
    },
    {
      "cell_type": "code",
      "source": [
        "# 2.  이전 텐서에 추가한 차원을 삭제하세요\n",
        "a = a.squeeze()"
      ],
      "metadata": {
        "id": "8_OLfV9HllHn"
      },
      "execution_count": null,
      "outputs": []
    },
    {
      "cell_type": "code",
      "source": [
        "describe(a)"
      ],
      "metadata": {
        "colab": {
          "base_uri": "https://localhost:8080/"
        },
        "id": "12zyy7KPnGkf",
        "outputId": "ca3452ad-4b7b-4b21-d00b-cc507b6ab595"
      },
      "execution_count": null,
      "outputs": [
        {
          "output_type": "stream",
          "name": "stdout",
          "text": [
            "타입: torch.FloatTensor\n",
            "크기: torch.Size([2, 3])\n",
            "값: \n",
            "tensor([[1.0580e-31, 3.0676e-41, 1.5975e-43],\n",
            "        [1.3873e-43, 1.4574e-43, 6.4460e-44]])\n"
          ]
        }
      ]
    },
    {
      "cell_type": "markdown",
      "source": [
        "squeeze와 unsqueeze를 쓰는 이유는 무엇일까?    \n",
        "의미없는 텐서 삭제를 위해?"
      ],
      "metadata": {
        "id": "a4YcQbH_rZnM"
      }
    },
    {
      "cell_type": "code",
      "source": [
        "# 3. 범위가 [3,7) -> 3이상 7미만이고 크기가 5*3인 랜덤한 텐서를 만드세요\n",
        "3 + (torch.rand(5, 3) * 4) # 더해주거나 곱해주는 연산은 모든 텐서에 다 적용된다. "
      ],
      "metadata": {
        "id": "JilBJ5t4nNkA",
        "colab": {
          "base_uri": "https://localhost:8080/"
        },
        "outputId": "007a63ee-3201-46d8-d384-97ef798fb152"
      },
      "execution_count": 13,
      "outputs": [
        {
          "output_type": "execute_result",
          "data": {
            "text/plain": [
              "tensor([[4.0262, 4.0104, 5.4886],\n",
              "        [6.7823, 4.0009, 3.1575],\n",
              "        [3.7579, 4.5594, 3.0783],\n",
              "        [6.2500, 6.3536, 3.7618],\n",
              "        [6.3837, 5.4473, 3.7635]])"
            ]
          },
          "metadata": {},
          "execution_count": 13
        }
      ]
    },
    {
      "cell_type": "code",
      "source": [
        "# 4. 정규 분포(평균=0, 표준편차=1)를 사용해 텐서를 만드세요.\n",
        "torch.randn(3)"
      ],
      "metadata": {
        "colab": {
          "base_uri": "https://localhost:8080/"
        },
        "id": "F_Op6vYTuurr",
        "outputId": "d9ae36f1-3609-41ed-f7a5-393a088fbb7f"
      },
      "execution_count": 21,
      "outputs": [
        {
          "output_type": "execute_result",
          "data": {
            "text/plain": [
              "tensor([ 0.3489,  0.4372, -0.1147])"
            ]
          },
          "metadata": {},
          "execution_count": 21
        }
      ]
    },
    {
      "cell_type": "code",
      "source": [
        "# 5. 텐서 torch.Tensor([1, 1, 1, 0, 1])에서 0이 아닌 원소의 인덱스를 추출하세요.\n",
        "a = torch.Tensor([1, 1, 1, 0, 1])"
      ],
      "metadata": {
        "id": "jbfkDRBPyElF"
      },
      "execution_count": 5,
      "outputs": []
    },
    {
      "cell_type": "code",
      "source": [
        "a[a>0]"
      ],
      "metadata": {
        "colab": {
          "base_uri": "https://localhost:8080/"
        },
        "id": "OXdHGV_3zW94",
        "outputId": "b494f3ae-9e4c-46ae-b2d5-983a612a02ef"
      },
      "execution_count": 24,
      "outputs": [
        {
          "output_type": "execute_result",
          "data": {
            "text/plain": [
              "tensor([1., 1., 1., 1.])"
            ]
          },
          "metadata": {},
          "execution_count": 24
        }
      ]
    },
    {
      "cell_type": "code",
      "source": [
        "torch.nonzero(a)"
      ],
      "metadata": {
        "colab": {
          "base_uri": "https://localhost:8080/"
        },
        "id": "E91sw-zOzYjm",
        "outputId": "8038869b-a8ae-4e20-8ab6-f31a0f744cf3"
      },
      "execution_count": 6,
      "outputs": [
        {
          "output_type": "execute_result",
          "data": {
            "text/plain": [
              "tensor([[0],\n",
              "        [1],\n",
              "        [2],\n",
              "        [4]])"
            ]
          },
          "metadata": {},
          "execution_count": 6
        }
      ]
    },
    {
      "cell_type": "code",
      "source": [
        "# 6. 크기가  (3,1)인 랜덤한 텐서를 만들고 네벌을 복사해 쌓으세요 \n",
        "a = torch.rand(3, 1)\n",
        "a"
      ],
      "metadata": {
        "colab": {
          "base_uri": "https://localhost:8080/"
        },
        "id": "fWj0GQWIzlEt",
        "outputId": "d8be1c95-34e1-4149-81ad-62c0f1d76c4c"
      },
      "execution_count": 20,
      "outputs": [
        {
          "output_type": "execute_result",
          "data": {
            "text/plain": [
              "tensor([[0.2745],\n",
              "        [0.7271],\n",
              "        [0.0235]])"
            ]
          },
          "metadata": {},
          "execution_count": 20
        }
      ]
    },
    {
      "cell_type": "code",
      "source": [
        "a.expand(3,4) # 특정 텐서를 반복하여 생성하지만, 개수가 1인 텐서에 대해서만 가능하다. 그리고 차원이 맞아야 한다. "
      ],
      "metadata": {
        "colab": {
          "base_uri": "https://localhost:8080/"
        },
        "id": "-4-DslEc1HJr",
        "outputId": "d2bc2695-ce5b-4d2f-e641-d3e8424f1832"
      },
      "execution_count": 21,
      "outputs": [
        {
          "output_type": "execute_result",
          "data": {
            "text/plain": [
              "tensor([[0.2745, 0.2745, 0.2745, 0.2745],\n",
              "        [0.7271, 0.7271, 0.7271, 0.7271],\n",
              "        [0.0235, 0.0235, 0.0235, 0.0235]])"
            ]
          },
          "metadata": {},
          "execution_count": 21
        }
      ]
    },
    {
      "cell_type": "markdown",
      "source": [
        "반환된 값은 뷰텐서로 늘어난 영역이 새로운 메모리 공간을 점유하지 않는다. "
      ],
      "metadata": {
        "id": "M4DTuRdy3LiD"
      }
    },
    {
      "cell_type": "code",
      "source": [
        "a.expand(-1,4) # 차원이 어차피 맞아 떨어져야 함(3)으로 -1로 표기해주면 굳이 숫자를 맞춰줄 필요 없다. "
      ],
      "metadata": {
        "colab": {
          "base_uri": "https://localhost:8080/"
        },
        "id": "KNHUKzVr3TWd",
        "outputId": "c64adbf3-e97c-40e0-b1a2-9976083b7505"
      },
      "execution_count": 24,
      "outputs": [
        {
          "output_type": "execute_result",
          "data": {
            "text/plain": [
              "tensor([[0.2745, 0.2745, 0.2745, 0.2745],\n",
              "        [0.7271, 0.7271, 0.7271, 0.7271],\n",
              "        [0.0235, 0.0235, 0.0235, 0.0235]])"
            ]
          },
          "metadata": {},
          "execution_count": 24
        }
      ]
    },
    {
      "cell_type": "code",
      "source": [
        "describe(a)"
      ],
      "metadata": {
        "colab": {
          "base_uri": "https://localhost:8080/"
        },
        "id": "aY94xRYG1qjt",
        "outputId": "885a7ab3-e4f8-4e1d-81aa-0e8a425366d6"
      },
      "execution_count": 23,
      "outputs": [
        {
          "output_type": "stream",
          "name": "stdout",
          "text": [
            "타입: torch.FloatTensor\n",
            "크기: torch.Size([3, 1])\n",
            "값: \n",
            "tensor([[0.2745],\n",
            "        [0.7271],\n",
            "        [0.0235]])\n"
          ]
        }
      ]
    },
    {
      "cell_type": "code",
      "source": [
        "# 7. 2차원 행렬 두개의 배치 행렬 곱셈을 계산하세요. \n",
        "a = torch.rand(3,4,5) #batch*n*m\n",
        "b = torch.rand(3,5,4) #batch*m*n\n",
        "a = a.bmm(b) "
      ],
      "metadata": {
        "id": "_pUA6et43BEs"
      },
      "execution_count": 29,
      "outputs": []
    },
    {
      "cell_type": "code",
      "source": [
        "describe(a) # batch*n*n"
      ],
      "metadata": {
        "colab": {
          "base_uri": "https://localhost:8080/"
        },
        "id": "zBs4jKSy3-qz",
        "outputId": "6f97f668-2611-4ae9-e2ce-3204e2c70145"
      },
      "execution_count": 30,
      "outputs": [
        {
          "output_type": "stream",
          "name": "stdout",
          "text": [
            "타입: torch.FloatTensor\n",
            "크기: torch.Size([3, 4, 4])\n",
            "값: \n",
            "tensor([[[1.8197, 1.3108, 1.4956, 1.7767],\n",
            "         [1.1430, 0.7856, 1.3477, 1.5383],\n",
            "         [1.3133, 1.1403, 1.1662, 0.8591],\n",
            "         [2.0262, 1.5106, 2.0030, 2.1529]],\n",
            "\n",
            "        [[1.1064, 1.3024, 0.9350, 0.8459],\n",
            "         [1.6639, 2.2181, 1.3466, 1.1958],\n",
            "         [1.2632, 1.6236, 1.0616, 0.9431],\n",
            "         [1.4502, 2.2091, 1.2497, 1.1473]],\n",
            "\n",
            "        [[0.7638, 1.1804, 1.1150, 0.7412],\n",
            "         [1.5764, 1.8134, 1.5252, 1.7257],\n",
            "         [1.8938, 2.1505, 2.1556, 2.1041],\n",
            "         [0.8184, 0.7413, 0.9995, 0.9948]]])\n"
          ]
        }
      ]
    },
    {
      "cell_type": "code",
      "source": [
        "# 8. 3차원 행렬과 2차원 행렬의 배치 행렬 곱셈을 계산하세요.\n",
        "a = torch.rand(3,4,5) \n",
        "b = torch.rand(5,4) \n",
        "torch.bmm(a, b.unsqueeze(0).expand(a.size, *b.size()))"
      ],
      "metadata": {
        "id": "9h-7kxLo4wJT"
      },
      "execution_count": null,
      "outputs": []
    }
  ]
}