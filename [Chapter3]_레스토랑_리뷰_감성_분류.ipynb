{
  "nbformat": 4,
  "nbformat_minor": 0,
  "metadata": {
    "colab": {
      "name": "[Chapter3] 레스토랑 리뷰 감성 분류.ipynb",
      "provenance": [],
      "collapsed_sections": [],
      "authorship_tag": "ABX9TyM7E4Y61VTc44UUU1+zA/5I",
      "include_colab_link": true
    },
    "kernelspec": {
      "name": "python3",
      "display_name": "Python 3"
    },
    "language_info": {
      "name": "python"
    }
  },
  "cells": [
    {
      "cell_type": "markdown",
      "metadata": {
        "id": "view-in-github",
        "colab_type": "text"
      },
      "source": [
        "<a href=\"https://colab.research.google.com/github/zzhenxi/study-NLP-with-PyTorch/blob/main/%5BChapter3%5D_%EB%A0%88%EC%8A%A4%ED%86%A0%EB%9E%91_%EB%A6%AC%EB%B7%B0_%EA%B0%90%EC%84%B1_%EB%B6%84%EB%A5%98.ipynb\" target=\"_parent\"><img src=\"https://colab.research.google.com/assets/colab-badge.svg\" alt=\"Open In Colab\"/></a>"
      ]
    },
    {
      "cell_type": "code",
      "execution_count": null,
      "metadata": {
        "colab": {
          "base_uri": "https://localhost:8080/"
        },
        "id": "nnB7hN-Dn2Os",
        "outputId": "8b95eb5e-6461-474c-d53f-4317efec686b"
      },
      "outputs": [
        {
          "output_type": "stream",
          "name": "stdout",
          "text": [
            "Drive already mounted at /content/drive; to attempt to forcibly remount, call drive.mount(\"/content/drive\", force_remount=True).\n"
          ]
        }
      ],
      "source": [
        "from google.colab import drive\n",
        "drive.mount('/content/drive')"
      ]
    },
    {
      "cell_type": "code",
      "source": [
        "import pandas as pd\n",
        "df = pd.read_csv('/content/drive/MyDrive/my_dataset/yelp_review/my_reviews_with_splits_lite.csv')"
      ],
      "metadata": {
        "id": "MIqTnM6qo8_y"
      },
      "execution_count": null,
      "outputs": []
    },
    {
      "cell_type": "code",
      "source": [
        "df.head()"
      ],
      "metadata": {
        "colab": {
          "base_uri": "https://localhost:8080/",
          "height": 206
        },
        "id": "HYwr_VkZpIlZ",
        "outputId": "8c442bc0-df36-412b-8549-82f9a3e4f201"
      },
      "execution_count": null,
      "outputs": [
        {
          "output_type": "execute_result",
          "data": {
            "text/html": [
              "\n",
              "  <div id=\"df-358e1f5a-24a7-4b87-95f2-28f960b045a9\">\n",
              "    <div class=\"colab-df-container\">\n",
              "      <div>\n",
              "<style scoped>\n",
              "    .dataframe tbody tr th:only-of-type {\n",
              "        vertical-align: middle;\n",
              "    }\n",
              "\n",
              "    .dataframe tbody tr th {\n",
              "        vertical-align: top;\n",
              "    }\n",
              "\n",
              "    .dataframe thead th {\n",
              "        text-align: right;\n",
              "    }\n",
              "</style>\n",
              "<table border=\"1\" class=\"dataframe\">\n",
              "  <thead>\n",
              "    <tr style=\"text-align: right;\">\n",
              "      <th></th>\n",
              "      <th>rating</th>\n",
              "      <th>review</th>\n",
              "      <th>split</th>\n",
              "    </tr>\n",
              "  </thead>\n",
              "  <tbody>\n",
              "    <tr>\n",
              "      <th>0</th>\n",
              "      <td>negative</td>\n",
              "      <td>terrible place to work for i just heard a stor...</td>\n",
              "      <td>train</td>\n",
              "    </tr>\n",
              "    <tr>\n",
              "      <th>1</th>\n",
              "      <td>negative</td>\n",
              "      <td>hours , minutes total time for an extremely s...</td>\n",
              "      <td>train</td>\n",
              "    </tr>\n",
              "    <tr>\n",
              "      <th>2</th>\n",
              "      <td>negative</td>\n",
              "      <td>my less than stellar review is for service . w...</td>\n",
              "      <td>train</td>\n",
              "    </tr>\n",
              "    <tr>\n",
              "      <th>3</th>\n",
              "      <td>negative</td>\n",
              "      <td>i m granting one star because there s no way t...</td>\n",
              "      <td>train</td>\n",
              "    </tr>\n",
              "    <tr>\n",
              "      <th>4</th>\n",
              "      <td>negative</td>\n",
              "      <td>the food here is mediocre at best . i went aft...</td>\n",
              "      <td>train</td>\n",
              "    </tr>\n",
              "  </tbody>\n",
              "</table>\n",
              "</div>\n",
              "      <button class=\"colab-df-convert\" onclick=\"convertToInteractive('df-358e1f5a-24a7-4b87-95f2-28f960b045a9')\"\n",
              "              title=\"Convert this dataframe to an interactive table.\"\n",
              "              style=\"display:none;\">\n",
              "        \n",
              "  <svg xmlns=\"http://www.w3.org/2000/svg\" height=\"24px\"viewBox=\"0 0 24 24\"\n",
              "       width=\"24px\">\n",
              "    <path d=\"M0 0h24v24H0V0z\" fill=\"none\"/>\n",
              "    <path d=\"M18.56 5.44l.94 2.06.94-2.06 2.06-.94-2.06-.94-.94-2.06-.94 2.06-2.06.94zm-11 1L8.5 8.5l.94-2.06 2.06-.94-2.06-.94L8.5 2.5l-.94 2.06-2.06.94zm10 10l.94 2.06.94-2.06 2.06-.94-2.06-.94-.94-2.06-.94 2.06-2.06.94z\"/><path d=\"M17.41 7.96l-1.37-1.37c-.4-.4-.92-.59-1.43-.59-.52 0-1.04.2-1.43.59L10.3 9.45l-7.72 7.72c-.78.78-.78 2.05 0 2.83L4 21.41c.39.39.9.59 1.41.59.51 0 1.02-.2 1.41-.59l7.78-7.78 2.81-2.81c.8-.78.8-2.07 0-2.86zM5.41 20L4 18.59l7.72-7.72 1.47 1.35L5.41 20z\"/>\n",
              "  </svg>\n",
              "      </button>\n",
              "      \n",
              "  <style>\n",
              "    .colab-df-container {\n",
              "      display:flex;\n",
              "      flex-wrap:wrap;\n",
              "      gap: 12px;\n",
              "    }\n",
              "\n",
              "    .colab-df-convert {\n",
              "      background-color: #E8F0FE;\n",
              "      border: none;\n",
              "      border-radius: 50%;\n",
              "      cursor: pointer;\n",
              "      display: none;\n",
              "      fill: #1967D2;\n",
              "      height: 32px;\n",
              "      padding: 0 0 0 0;\n",
              "      width: 32px;\n",
              "    }\n",
              "\n",
              "    .colab-df-convert:hover {\n",
              "      background-color: #E2EBFA;\n",
              "      box-shadow: 0px 1px 2px rgba(60, 64, 67, 0.3), 0px 1px 3px 1px rgba(60, 64, 67, 0.15);\n",
              "      fill: #174EA6;\n",
              "    }\n",
              "\n",
              "    [theme=dark] .colab-df-convert {\n",
              "      background-color: #3B4455;\n",
              "      fill: #D2E3FC;\n",
              "    }\n",
              "\n",
              "    [theme=dark] .colab-df-convert:hover {\n",
              "      background-color: #434B5C;\n",
              "      box-shadow: 0px 1px 3px 1px rgba(0, 0, 0, 0.15);\n",
              "      filter: drop-shadow(0px 1px 2px rgba(0, 0, 0, 0.3));\n",
              "      fill: #FFFFFF;\n",
              "    }\n",
              "  </style>\n",
              "\n",
              "      <script>\n",
              "        const buttonEl =\n",
              "          document.querySelector('#df-358e1f5a-24a7-4b87-95f2-28f960b045a9 button.colab-df-convert');\n",
              "        buttonEl.style.display =\n",
              "          google.colab.kernel.accessAllowed ? 'block' : 'none';\n",
              "\n",
              "        async function convertToInteractive(key) {\n",
              "          const element = document.querySelector('#df-358e1f5a-24a7-4b87-95f2-28f960b045a9');\n",
              "          const dataTable =\n",
              "            await google.colab.kernel.invokeFunction('convertToInteractive',\n",
              "                                                     [key], {});\n",
              "          if (!dataTable) return;\n",
              "\n",
              "          const docLinkHtml = 'Like what you see? Visit the ' +\n",
              "            '<a target=\"_blank\" href=https://colab.research.google.com/notebooks/data_table.ipynb>data table notebook</a>'\n",
              "            + ' to learn more about interactive tables.';\n",
              "          element.innerHTML = '';\n",
              "          dataTable['output_type'] = 'display_data';\n",
              "          await google.colab.output.renderOutput(dataTable, element);\n",
              "          const docLink = document.createElement('div');\n",
              "          docLink.innerHTML = docLinkHtml;\n",
              "          element.appendChild(docLink);\n",
              "        }\n",
              "      </script>\n",
              "    </div>\n",
              "  </div>\n",
              "  "
            ],
            "text/plain": [
              "     rating                                             review  split\n",
              "0  negative  terrible place to work for i just heard a stor...  train\n",
              "1  negative   hours , minutes total time for an extremely s...  train\n",
              "2  negative  my less than stellar review is for service . w...  train\n",
              "3  negative  i m granting one star because there s no way t...  train\n",
              "4  negative  the food here is mediocre at best . i went aft...  train"
            ]
          },
          "metadata": {},
          "execution_count": 10
        }
      ]
    },
    {
      "cell_type": "markdown",
      "source": [
        "# 데이터 백터화 클래스"
      ],
      "metadata": {
        "id": "aUfXX6DlyR8m"
      }
    },
    {
      "cell_type": "markdown",
      "source": [
        "## 파이토치 데이터셋 이해하기!"
      ],
      "metadata": {
        "id": "EBPYldk3o3Ot"
      }
    },
    {
      "cell_type": "code",
      "source": [
        "from torch.utils.data import Dataset\n",
        "\n",
        "class ReviewDataset(Dataset):\n",
        "  def __init__(self, review_df, vectorizer):\n",
        "    self.review_df = review_df\n",
        "    self._vecrotizer = vectorizer\n",
        "\n",
        "    self.train_df = self.review_df[self.review_df.split =='train']\n",
        "    self.train_size = len(self.train_df)\n",
        "\n",
        "    self.val_df = self.review_df[self.review_df.split =='val']\n",
        "    self.validation_size = len(self.val_df)\n",
        "\n",
        "    self.test_df = self.review_df[self.review.split == 'test']\n",
        "    self.test_size = len(self.test_df)\n",
        "\n",
        "    self._lookup_dict = {'train': (self.train_df, self.train_size),\n",
        "                         'val' : (self.val_df, self.validation_size),\n",
        "                         'test' : (self.test_df, self.test_size)}\n",
        "    \n",
        "    self.set_split('train') # 이건 나중에 split의 매개변수를 우선 초기화 해준것?\n",
        "\n",
        "\n",
        "  @classmethod\n",
        "  def load_dataset_and_make_vectorizer(cls, review_csv):\n",
        "    '''\n",
        "    여기에서 처음에 ReviewDataset이라는 class의 매개변수를 넣어주는 행동을 하는 듯.\n",
        "    cls는 곧 ReviewDataset라는 클래스이며, 그 클래스에 매개변수로 dataframe과 vectorizer를 넣어줌!\n",
        "    '''\n",
        "    review_df = pd.read_csv(review_csv)\n",
        "    return cls(review_df, ReviewVectorizer.from_dataframe(review_df))\n",
        "\n",
        "##### 이 함수는 굳이 왜 있는 걸까? vectorizer를 구현해보면 알듯..\n",
        "  def get_vectorizer(self):\n",
        "    return self._vectorizer\n",
        "  \n",
        "  def set_split(self, split='train'):\n",
        "    self._target_split = split\n",
        "    self._target_df, self._target_size = self._lookup_dict[split]\n",
        "\n",
        "  def _len_(self):\n",
        "    return self._target_size\n",
        "\n",
        "  def _getitem_(self, index):\n",
        "    '''\n",
        "    index : 데이터 포인트의 인덱스 \n",
        "    output -> 데이터 포인트의 특성(x_data)과 레이블(y_target)로 이루어진 딕셔너리\n",
        "    '''\n",
        "    row = self._target_df.iloc[index]\n",
        "\n",
        "    review_vector = \\\n",
        "      self._vectorizer.vectorize(row.review)\n",
        "    \n",
        "    rating_index = \\\n",
        "      self._vectorizer.rating_vocab.lookup_token(row.rating)\n",
        "\n",
        "    return {'x_data': review_vector,\n",
        "            'y_target': rating_index}\n",
        "\n",
        "  def get_num_batches(self, batch_size):\n",
        "    '''\n",
        "    만들 수 있는 배치의 개수 반환\n",
        "    '''\n",
        "    return len(self) // batch_size\n"
      ],
      "metadata": {
        "id": "vAoA3VMbyQe9"
      },
      "execution_count": null,
      "outputs": []
    },
    {
      "cell_type": "markdown",
      "source": [
        "## Vocabulary, Vectorizer, DataLoader 클래스를 사용해 중요한 파이프라인을 수행"
      ],
      "metadata": {
        "id": "pHdIw3AzNG-z"
      }
    },
    {
      "cell_type": "markdown",
      "source": [
        "### Vocabulary"
      ],
      "metadata": {
        "id": "WLUc-IkVNT-6"
      }
    },
    {
      "cell_type": "code",
      "source": [
        "class Vocabulary(object):\n",
        "  '''매핑을 위해 텍스트를 처리하고 어휘사전을 만드는 클래스'''\n",
        "\n",
        "  def __init__(self, token_to_idx=None, add_unk=True, unk_token=\"<UNK>\"):\n",
        "    ''' \n",
        "    token_to_idx -> 기존 토큰-인덱스 매핑 딕셔너리\n",
        "    add_unk (bool) -> UNK 토큰을 추가할지 지정하는 플래그 *여기서 UNK는 unknown을 뜻함\n",
        "    unk_token (str) -> Vocabulary에 추가할 UNK 토큰\n",
        "    '''\n",
        "\n",
        "    if token_to_idx is None:\n",
        "      token_to_idx = {}\n",
        "\n",
        "      self._token_to_idx = token_to_idx\n",
        "\n",
        "      self._idx_to_token = {idx:token\n",
        "                            for token, idx in self._token_to_idx.items()} # token과 index위치 (키<->벨류) 바꿔줌\n",
        "      \n",
        "      self._add_unk = add_unk\n",
        "      self._unk_token = unk_token\n",
        "      \n",
        "      self.unk_index = -1 # unk token의 인덱스는 -1이다.\n",
        "      if add_unk:\n",
        "        self.unk_index = self.add_token(unk_token)\n",
        "      \n",
        "      def to_serializable(self):\n",
        "        '''직렬화할 수 있는 딕셔너리를 반환합니다''' # 그냥.. 딕셔너리를 반환한다는 얘기인가?\n",
        "      return {'token_to_idx' : self._token_to_idx,\n",
        "              'add_unk' : self._add_unk,\n",
        "              'unk_token': self._unk_token}\n",
        "      \n",
        "      @classmethod\n",
        "      def from_serializable(cls, contents):\n",
        "        '''직렬화된 딕셔너리에서 Vocabulary 객체 만듦'''\n",
        "        return cls(**contents) # **kwargs {키워드 : 특정값} 딕셔너리로 보냄 https://brunch.co.kr/@princox/180 참고\n",
        "\n",
        "      def add_token(self, token):\n",
        "        '''토큰을 기반으로 매핑 딕셔너리를 업데이트 합니다. \n",
        "        매개변수 : \n",
        "        token (str) : Vocabulary에 추가할 토큰\n",
        "        반환값 : \n",
        "        index (int) : 토큰에 상응하는 정수 \n",
        "        '''\n",
        "        if token in self._token_to_idx:\n",
        "          index = self._token_to_idx[token]\n",
        "        else:\n",
        "          index = len(self._token_to_idx)\n",
        "          self._token_to_idx[token] = index\n",
        "          self._idx_to_token[index] = token\n",
        "        return index\n",
        "\n",
        "        \n",
        "\n",
        "\n",
        "\n"
      ],
      "metadata": {
        "id": "pqGNpuLdmy1R"
      },
      "execution_count": null,
      "outputs": []
    },
    {
      "cell_type": "code",
      "source": [
        "a = {1:'one', 2:'two', 3:'three'}"
      ],
      "metadata": {
        "id": "NYWqtDzCTfOO"
      },
      "execution_count": null,
      "outputs": []
    },
    {
      "cell_type": "code",
      "source": [
        "a= {idx:num\n",
        "    for num, idx in a.items()}"
      ],
      "metadata": {
        "id": "cXzq_eTaTl-M"
      },
      "execution_count": null,
      "outputs": []
    },
    {
      "cell_type": "code",
      "source": [
        "a"
      ],
      "metadata": {
        "colab": {
          "base_uri": "https://localhost:8080/"
        },
        "id": "lUcGG7KpTuyv",
        "outputId": "cc5f09f2-e072-44cf-f829-4c2e3a593d7c"
      },
      "execution_count": null,
      "outputs": [
        {
          "output_type": "execute_result",
          "data": {
            "text/plain": [
              "{'one': 1, 'three': 3, 'two': 2}"
            ]
          },
          "metadata": {},
          "execution_count": 7
        }
      ]
    },
    {
      "cell_type": "code",
      "source": [
        ""
      ],
      "metadata": {
        "id": "_Eq-CJSsTvCJ"
      },
      "execution_count": null,
      "outputs": []
    }
  ]
}